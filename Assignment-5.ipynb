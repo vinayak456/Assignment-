{
 "cells": [
  {
   "cell_type": "code",
   "execution_count": 3,
   "id": "634c37ad",
   "metadata": {},
   "outputs": [
    {
     "name": "stdout",
     "output_type": "stream",
     "text": [
      "You have divided a number by zero, which is not allowed.\n"
     ]
    }
   ],
   "source": [
    "# QUESTION NO.1\n",
    "try:\n",
    "    a = 5\n",
    "    b = 0\n",
    "    print(\"Result of Division: \" + str(a/b))\n",
    "except:\n",
    "    print(\"You have divided a number by zero, which is not allowed.\")"
   ]
  },
  {
   "cell_type": "code",
   "execution_count": 1,
   "id": "8607f09d",
   "metadata": {},
   "outputs": [
    {
     "name": "stdout",
     "output_type": "stream",
     "text": [
      "Americans play Baseball\n",
      "Americans play Cricket\n",
      "Americans watch Baseball\n",
      "Americans watch Cricket\n",
      "Indians play Baseball\n",
      "Indians play Cricket\n",
      "Indians watch Baseball\n",
      "Indians watch Cricket\n"
     ]
    }
   ],
   "source": [
    "#QUESTION NO.2\n",
    "subjects=[\"Americans \",\"Indians \"]\n",
    "verbs=[\"play \",\"watch \"]\n",
    "objects=[\"Baseball\",\"Cricket\"]\n",
    "for s in subjects:\n",
    "    for v in verbs:\n",
    "        for o in objects:\n",
    "            sentence = s+v+o\n",
    "            print(sentence)"
   ]
  }
 ],
 "metadata": {
  "kernelspec": {
   "display_name": "Python 3 (ipykernel)",
   "language": "python",
   "name": "python3"
  },
  "language_info": {
   "codemirror_mode": {
    "name": "ipython",
    "version": 3
   },
   "file_extension": ".py",
   "mimetype": "text/x-python",
   "name": "python",
   "nbconvert_exporter": "python",
   "pygments_lexer": "ipython3",
   "version": "3.9.7"
  }
 },
 "nbformat": 4,
 "nbformat_minor": 5
}
