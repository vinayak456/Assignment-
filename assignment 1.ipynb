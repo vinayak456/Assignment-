{
 "cells": [
  {
   "cell_type": "markdown",
   "id": "6ac781b6",
   "metadata": {},
   "source": [
    "# Assignment-1 ,Python Basics, Conditional Loops"
   ]
  },
  {
   "cell_type": "code",
   "execution_count": 1,
   "id": "0e4f6238",
   "metadata": {},
   "outputs": [
    {
     "name": "stdout",
     "output_type": "stream",
     "text": [
      "[2030, 2065, 2100, 2135, 2170, 2205, 2240, 2275, 2310, 2345, 2380, 2415, 2450, 2485, 2520, 2555, 2590, 2625, 2660, 2695, 2730, 2765, 2800, 2835, 2870, 2905, 2940, 2975, 3010, 3045, 3080, 3115, 3150, 3185]\n"
     ]
    }
   ],
   "source": [
    "def divisible():\n",
    "    a = []\n",
    "    for x in range(2000, 3200):\n",
    "        if x % 7 == 0 and x % 5 == 0:\n",
    "            a.append(x)\n",
    "    return a\n",
    "\n",
    "print(divisible())"
   ]
  },
  {
   "cell_type": "code",
   "execution_count": 3,
   "id": "f2632320",
   "metadata": {},
   "outputs": [
    {
     "name": "stdout",
     "output_type": "stream",
     "text": [
      "Input your First Name : vinayak\n",
      "Input your Last Name : patil\n",
      "patil vinayak\n"
     ]
    }
   ],
   "source": [
    "firstname = input(\"Input your First Name : \")\n",
    "lastname = input(\"Input your Last Name : \")\n",
    "print ( lastname + \" \" + firstname)"
   ]
  },
  {
   "cell_type": "code",
   "execution_count": 4,
   "id": "b2502ed4",
   "metadata": {},
   "outputs": [
    {
     "name": "stdout",
     "output_type": "stream",
     "text": [
      "The volume of the sphere is:  904.7786842338603\n"
     ]
    }
   ],
   "source": [
    "pi = 3.1415926535897931\n",
    "r= 6.0\n",
    "V= 4.0/3.0*pi* r**3\n",
    "print('The volume of the sphere is: ',V)"
   ]
  },
  {
   "cell_type": "code",
   "execution_count": null,
   "id": "58c73f90",
   "metadata": {},
   "outputs": [],
   "source": []
  }
 ],
 "metadata": {
  "kernelspec": {
   "display_name": "Python 3 (ipykernel)",
   "language": "python",
   "name": "python3"
  },
  "language_info": {
   "codemirror_mode": {
    "name": "ipython",
    "version": 3
   },
   "file_extension": ".py",
   "mimetype": "text/x-python",
   "name": "python",
   "nbconvert_exporter": "python",
   "pygments_lexer": "ipython3",
   "version": "3.9.7"
  }
 },
 "nbformat": 4,
 "nbformat_minor": 5
}
