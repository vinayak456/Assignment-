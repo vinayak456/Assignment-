{
 "cells": [
  {
   "cell_type": "code",
   "execution_count": 3,
   "id": "a742d709",
   "metadata": {},
   "outputs": [],
   "source": [
    "import math"
   ]
  },
  {
   "cell_type": "code",
   "execution_count": 4,
   "id": "9c07f0c2",
   "metadata": {},
   "outputs": [
    {
     "name": "stdout",
     "output_type": "stream",
     "text": [
      "Area of triangle : 6.0\n"
     ]
    }
   ],
   "source": [
    "#QUESTION NO.1.1\n",
    "class sides:\n",
    "    def __init__(self,a, b, c):\n",
    "        self.a = a\n",
    "        self.b = b\n",
    "        self.c = c\n",
    "class A(sides):\n",
    "    def area(self):\n",
    "        s = (self.a + self.b + self.c)/2\n",
    "        return (s*(s-self.a)*(s-self.b)*(s-self.c)) ** 0.5\n",
    "obj = A(3,4,5)\n",
    "print(\"Area of triangle : {}\".format(obj.area()))"
   ]
  },
  {
   "cell_type": "code",
   "execution_count": 17,
   "id": "dec68b41",
   "metadata": {},
   "outputs": [
    {
     "name": "stdout",
     "output_type": "stream",
     "text": [
      "['wordThree']\n"
     ]
    }
   ],
   "source": [
    "#QUESTION NO.1.2\n",
    "def filter_long_words(inputList,inputInteger):\n",
    " \n",
    "    listOfWords = []\n",
    " \n",
    "    for i in range(len(inputList)):\n",
    "        if len(inputList[i]) > inputInteger:\n",
    "            listOfWords.append(inputList[i])\n",
    " \n",
    "    return listOfWords\n",
    " \n",
    "inputListOfWords = ['wordOne','wordTwo','wordThree','wordFour','wordFive']\n",
    "inputWordLength = 8\n",
    " \n",
    "print (str(filter_long_words(inputListOfWords,inputWordLength)))"
   ]
  },
  {
   "cell_type": "code",
   "execution_count": 12,
   "id": "753c9170",
   "metadata": {},
   "outputs": [
    {
     "name": "stdout",
     "output_type": "stream",
     "text": [
      "Input : Please enter Words : VINAYAJK\n",
      "Output: Length of Words are : [8]\n"
     ]
    }
   ],
   "source": [
    "#QUESTION NO.2.1\n",
    "def map_Words_to_Length(List):\n",
    "    ''' This function Map's the words with their corresponding length'''\n",
    "    return list(map(len, List))\n",
    "\n",
    "word_List=list(input(\"Input : Please enter Words : \").split(\",\"))\n",
    "\n",
    "List=[x.strip() for x in word_List]\n",
    "\n",
    "Words_lengths=map_Words_to_Length(List)\n",
    "\n",
    "print(\"Output: Length of Words are :\",Words_lengths )"
   ]
  },
  {
   "cell_type": "code",
   "execution_count": 3,
   "id": "a558bb28",
   "metadata": {},
   "outputs": [
    {
     "name": "stdout",
     "output_type": "stream",
     "text": [
      "Enter the letter :- F\n",
      "False \n"
     ]
    }
   ],
   "source": [
    "#QUESTION NO.2.2\n",
    "def vowel(x):\n",
    "    if x == \"a\"or x ==\"e\" or x==\"i\" or x == \"o\" or x==\"u\":\n",
    "        return \"True\"\n",
    "    else:\n",
    "        return \"False \"J\n",
    "a = input (\"Enter the letter :- \")\n",
    "print (vowel(a))\n",
    "\n"
   ]
  }
 ],
 "metadata": {
  "kernelspec": {
   "display_name": "Python 3 (ipykernel)",
   "language": "python",
   "name": "python3"
  },
  "language_info": {
   "codemirror_mode": {
    "name": "ipython",
    "version": 3
   },
   "file_extension": ".py",
   "mimetype": "text/x-python",
   "name": "python",
   "nbconvert_exporter": "python",
   "pygments_lexer": "ipython3",
   "version": "3.9.7"
  }
 },
 "nbformat": 4,
 "nbformat_minor": 5
}
