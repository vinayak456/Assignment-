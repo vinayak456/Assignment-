{
 "cells": [
  {
   "cell_type": "code",
   "execution_count": 12,
   "id": "2a0ad214",
   "metadata": {},
   "outputs": [
    {
     "name": "stdout",
     "output_type": "stream",
     "text": [
      "Output with original reduce function:  72\n",
      "Output with custom myreduce function:  72\n"
     ]
    }
   ],
   "source": [
    "# QUESTION NO.1.1\n",
    "from functools import reduce\n",
    "\n",
    "\n",
    "def minus(a, b):\n",
    "    return a-b\n",
    "\n",
    "\n",
    "l = [100, 3, 2, 1, 9, 6, 7]\n",
    "\n",
    "print(\"Output with original reduce function: \", reduce(minus, l))\n",
    "\n",
    "\n",
    "def myreduce(function, sequence):\n",
    "    first_ele = sequence[0]  \n",
    "    for next_ele in sequence[1:]:\n",
    "        first_ele = function(first_ele, next_ele)\n",
    "    return first_ele\n",
    "\n",
    "\n",
    "print(\"Output with custom myreduce function: \", myreduce(minus, l))"
   ]
  },
  {
   "cell_type": "code",
   "execution_count": 14,
   "id": "54bb0a9a",
   "metadata": {},
   "outputs": [
    {
     "name": "stdout",
     "output_type": "stream",
     "text": [
      "Output with original filter function:  [1, 3, 5, 7, 9, 11, 13]\n",
      "Output with custom myfilter function:  [1, 3, 5, 7, 9, 11, 13]\n"
     ]
    }
   ],
   "source": [
    "# QUESTION NO.1.2\n",
    "def odd_number(num):\n",
    "    if num % 2 == 0:\n",
    "        return False\n",
    "    else:\n",
    "        return True\n",
    "\n",
    "\n",
    "lst = [1, 2, 3, 4, 5, 6, 7, 8, 9, 10, 11, 12, 13]\n",
    "\n",
    "print(\"Output with original filter function: \", list(filter(odd_number, lst)))\n",
    "\n",
    "\n",
    "def myfilter(function, sequence):\n",
    "    new_list = []\n",
    "    for ele in sequence:\n",
    "        if function(ele) == True:\n",
    "            \n",
    "            new_list.append(ele)\n",
    "    return new_list\n",
    "\n",
    "\n",
    "print(\"Output with custom myfilter function: \", list(myfilter(odd_number, lst)))"
   ]
  },
  {
   "cell_type": "code",
   "execution_count": 21,
   "id": "1fa4ecbc",
   "metadata": {},
   "outputs": [],
   "source": [
    "# QUESTION NO.2"
   ]
  },
  {
   "cell_type": "code",
   "execution_count": 22,
   "id": "48a0e472",
   "metadata": {},
   "outputs": [
    {
     "name": "stdout",
     "output_type": "stream",
     "text": [
      "['x', 'y', 'z'] <-----> ['x', 'xx', 'xxx', 'xxxx', 'y', 'yy', 'yyy', 'yyyy', 'z', 'zz', 'zzz', 'zzzz']\n"
     ]
    }
   ],
   "source": [
    "base_list = ['x', 'y', 'z']\n",
    "new_list = [ele*num for ele in base_list for num in range(1, 5)]\n",
    "print(base_list, \"<----->\", new_list)"
   ]
  },
  {
   "cell_type": "code",
   "execution_count": 23,
   "id": "5697f442",
   "metadata": {},
   "outputs": [
    {
     "name": "stdout",
     "output_type": "stream",
     "text": [
      "['x', 'y', 'z'] <-----> ['x', 'y', 'z', 'xx', 'yy', 'zz', 'xxx', 'yyy', 'zzz', 'xxxx', 'yyyy', 'zzzz']\n"
     ]
    }
   ],
   "source": [
    "new_list = [ele*num for num in range(1, 5) for ele in base_list]\n",
    "print(base_list, \"<----->\", new_list)"
   ]
  },
  {
   "cell_type": "code",
   "execution_count": 24,
   "id": "c9a7f5c8",
   "metadata": {},
   "outputs": [
    {
     "name": "stdout",
     "output_type": "stream",
     "text": [
      "[2, 3, 4] <-----> [[2], [3], [4], [3], [4], [5], [4], [5], [6]]\n"
     ]
    }
   ],
   "source": [
    "num_list = [2, 3, 4]\n",
    "new_list = [[ele+num] for ele in num_list for num in range(3)]\n",
    "print(num_list, \"<----->\", new_list)"
   ]
  },
  {
   "cell_type": "code",
   "execution_count": 25,
   "id": "d1994dea",
   "metadata": {},
   "outputs": [
    {
     "name": "stdout",
     "output_type": "stream",
     "text": [
      "[2, 3, 4, 5] <-----> [[2, 3, 4, 5], [3, 4, 5, 6], [4, 5, 6, 7], [5, 6, 7, 8]]\n"
     ]
    }
   ],
   "source": [
    "num_list = [2, 3, 4, 5]\n",
    "new_list = [[ele+num for ele in num_list] for num in range(4)]\n",
    "print(num_list, \"<----->\", new_list)"
   ]
  },
  {
   "cell_type": "code",
   "execution_count": 26,
   "id": "941d91a2",
   "metadata": {},
   "outputs": [
    {
     "name": "stdout",
     "output_type": "stream",
     "text": [
      "[1, 2, 3] <-----> [(1, 1), (2, 1), (3, 1), (1, 2), (2, 2), (3, 2), (1, 3), (2, 3), (3, 3)]\n"
     ]
    }
   ],
   "source": [
    "num_list = [1, 2, 3]\n",
    "new_list = [(ele, num) for num in num_list for ele in num_list]\n",
    "print(num_list, \"<----->\", new_list)\n"
   ]
  },
  {
   "cell_type": "code",
   "execution_count": null,
   "id": "415bc37f",
   "metadata": {},
   "outputs": [],
   "source": []
  }
 ],
 "metadata": {
  "kernelspec": {
   "display_name": "Python 3 (ipykernel)",
   "language": "python",
   "name": "python3"
  },
  "language_info": {
   "codemirror_mode": {
    "name": "ipython",
    "version": 3
   },
   "file_extension": ".py",
   "mimetype": "text/x-python",
   "name": "python",
   "nbconvert_exporter": "python",
   "pygments_lexer": "ipython3",
   "version": "3.9.7"
  }
 },
 "nbformat": 4,
 "nbformat_minor": 5
}
